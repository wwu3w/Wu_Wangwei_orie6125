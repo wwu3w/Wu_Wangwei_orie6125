{
 "cells": [
  {
   "cell_type": "code",
   "execution_count": 1,
   "metadata": {
    "collapsed": false
   },
   "outputs": [
    {
     "name": "stdout",
     "output_type": "stream",
     "text": [
      "Welcome to\n",
      "      ____              __\n",
      "     / __/__  ___ _____/ /__\n",
      "    _\\ \\/ _ \\/ _ `/ __/  '_/\n",
      "   /__ / .__/\\_,_/_/ /_/\\_\\   version 2.3.0\n",
      "      /_/\n",
      "\n",
      "Using Python version 2.7.11 (default, Dec  6 2015 18:57:58)\n",
      "SparkSession available as 'spark'.\n"
     ]
    }
   ],
   "source": [
    "import os \n",
    "import sys\n",
    "\n",
    "spark_home = os.environ.get('SPARK_HOME', None)\n",
    "sys.path.insert(0, os.path.join(spark_home, 'python/lib/py4j-0.10.4-src.zip'))\n",
    "sys.path.insert(0, os.path.join(spark_home, 'python'))\n",
    "execfile(os.path.join(os.environ[\"SPARK_HOME\"], 'python/pyspark/shell.py'))"
   ]
  },
  {
   "cell_type": "code",
   "execution_count": 2,
   "metadata": {
    "collapsed": true
   },
   "outputs": [],
   "source": [
    "DatasetRaw = sc.textFile('soc-data.txt').cache()"
   ]
  },
  {
   "cell_type": "code",
   "execution_count": 3,
   "metadata": {
    "collapsed": false
   },
   "outputs": [],
   "source": [
    "DatasetRaw = DatasetRaw.map(lambda line: line.split(\"\\t\")).filter(lambda line: len(line)==2).map(lambda line: (int(line[0].strip()),[int(x.strip()) for x in line[1].split(',') if x != ''])).sortByKey()"
   ]
  },
  {
   "cell_type": "code",
   "execution_count": 4,
   "metadata": {
    "collapsed": false
   },
   "outputs": [],
   "source": [
    "cartesian = DatasetRaw.cartesian(DatasetRaw)"
   ]
  },
  {
   "cell_type": "code",
   "execution_count": 5,
   "metadata": {
    "collapsed": true
   },
   "outputs": [],
   "source": [
    "def filterPairs(x):\n",
    "     # don't take into account pairs of a same node and pairs of already friends\n",
    "    if (x[0][0] != x[1][0]) and (not x[0][0] in x[1][1]) and (not x[1][0] in x[0][1]):\n",
    "        shared = len(list(set(x[0][1]).intersection(set(x[1][1]))))\n",
    "        return (x[0][0], [x[1][0], shared])\n",
    "\n",
    "filteredDatasetRaw = cartesian.map(lambda x: filterPairs(x))\n",
    "filteredDataset = filteredDatasetRaw.filter(lambda x: x != None)"
   ]
  },
  {
   "cell_type": "code",
   "execution_count": 6,
   "metadata": {
    "collapsed": false
   },
   "outputs": [],
   "source": [
    "groupedDataset = filteredDataset.groupByKey().mapValues(list)"
   ]
  },
  {
   "cell_type": "code",
   "execution_count": 7,
   "metadata": {
    "collapsed": true
   },
   "outputs": [],
   "source": [
    "def mapFinalDataset(elem):\n",
    "    recommendations = []\n",
    "    src = elem[0]\n",
    "    dst_commons = elem[1]\n",
    "    for pair in dst_commons:\n",
    "        if pair[1] > 10: # 10 is the minimum number of friends in common\n",
    "            recommendations.append(pair[0])\n",
    "    return (strsrc, recommendations)\n",
    "\n",
    "\n",
    "finalDataset = groupedDataset.map(mapFinalDataset)"
   ]
  },
  {
   "cell_type": "code",
   "execution_count": 8,
   "metadata": {
    "collapsed": false
   },
   "outputs": [],
   "source": [
    "#finalDataset.collect()"
   ]
  },
  {
   "cell_type": "code",
   "execution_count": null,
   "metadata": {
    "collapsed": true
   },
   "outputs": [],
   "source": [
    "sc.stop()"
   ]
  }
 ],
 "metadata": {
  "kernelspec": {
   "display_name": "Python 2",
   "language": "python",
   "name": "python2"
  },
  "language_info": {
   "codemirror_mode": {
    "name": "ipython",
    "version": 2
   },
   "file_extension": ".py",
   "mimetype": "text/x-python",
   "name": "python",
   "nbconvert_exporter": "python",
   "pygments_lexer": "ipython2",
   "version": "2.7.11"
  }
 },
 "nbformat": 4,
 "nbformat_minor": 0
}
