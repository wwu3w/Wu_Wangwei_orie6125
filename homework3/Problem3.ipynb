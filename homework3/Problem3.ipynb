{
 "cells": [
  {
   "cell_type": "code",
   "execution_count": 3,
   "metadata": {
    "collapsed": false
   },
   "outputs": [
    {
     "name": "stdout",
     "output_type": "stream",
     "text": [
      "Welcome to\n",
      "      ____              __\n",
      "     / __/__  ___ _____/ /__\n",
      "    _\\ \\/ _ \\/ _ `/ __/  '_/\n",
      "   /__ / .__/\\_,_/_/ /_/\\_\\   version 2.3.0\n",
      "      /_/\n",
      "\n",
      "Using Python version 2.7.11 (default, Dec  6 2015 18:57:58)\n",
      "SparkSession available as 'spark'.\n"
     ]
    }
   ],
   "source": [
    "import os \n",
    "import sys\n",
    "\n",
    "spark_home = os.environ.get('SPARK_HOME', None)\n",
    "sys.path.insert(0, os.path.join(spark_home, 'python/lib/py4j-0.10.4-src.zip'))\n",
    "sys.path.insert(0, os.path.join(spark_home, 'python'))\n",
    "execfile(os.path.join(os.environ[\"SPARK_HOME\"], 'python/pyspark/shell.py'))"
   ]
  },
  {
   "cell_type": "code",
   "execution_count": 4,
   "metadata": {
    "collapsed": true
   },
   "outputs": [],
   "source": [
    "DatasetRaw = sc.textFile('114_congress.csv')\n",
    "\n",
    "def remove_header(itr_index, itr):\n",
    "    return iter(list(itr)[1:]) if itr_index == 0 else itr\n",
    "\n",
    "DatasetRaw = DatasetRaw.mapPartitionsWithIndex(remove_header).cache()"
   ]
  },
  {
   "cell_type": "code",
   "execution_count": 5,
   "metadata": {
    "collapsed": true
   },
   "outputs": [],
   "source": [
    "DatasetRaw = DatasetRaw.map(lambda line: [str(i + 1) + \":\" + x + \" \" for i, x in enumerate(line.split(',')[3:])])"
   ]
  },
  {
   "cell_type": "code",
   "execution_count": 6,
   "metadata": {
    "collapsed": false
   },
   "outputs": [],
   "source": [
    "DatasetRaw = DatasetRaw.zipWithIndex().map(lambda line: [str(line[1]) + ' '] + line[0]).map(lambda line: (1,line + ['\\n'])).map(lambda line: (line[0],''.join(line[1])))"
   ]
  },
  {
   "cell_type": "code",
   "execution_count": 9,
   "metadata": {
    "collapsed": true
   },
   "outputs": [],
   "source": [
    "NewDataset = DatasetRaw.reduceByKey(lambda v1, v2: v1+v2).collect()[0][1]"
   ]
  },
  {
   "cell_type": "code",
   "execution_count": 10,
   "metadata": {
    "collapsed": false
   },
   "outputs": [],
   "source": [
    "encoding = 'utf-8'\n",
    "import io\n",
    "\n",
    "with io.open('new_votes.txt', 'w', encoding=encoding) as file:\n",
    "    file.write(NewDataset)"
   ]
  },
  {
   "cell_type": "code",
   "execution_count": 58,
   "metadata": {
    "collapsed": true
   },
   "outputs": [],
   "source": [
    "from pyspark.ml.clustering import KMeans\n",
    "from pyspark.ml.feature import PCA, StandardScaler\n",
    "\n",
    "#Kmeans\n",
    "dataset = spark.read.format(\"libsvm\").load(\"new_votes.txt\")\n",
    "kmeans = KMeans().setK(2).setSeed(1)\n",
    "model = kmeans.fit(dataset)\n",
    "centers = model.clusterCenters()\n",
    "predictions = model.transform(dataset)\n"
   ]
  },
  {
   "cell_type": "code",
   "execution_count": 59,
   "metadata": {
    "collapsed": false
   },
   "outputs": [],
   "source": [
    "predlist = predictions.select('prediction').collect()\n",
    "prediction_array = [int(i.prediction) for i in predlist]\n"
   ]
  },
  {
   "cell_type": "code",
   "execution_count": 60,
   "metadata": {
    "collapsed": false
   },
   "outputs": [],
   "source": [
    "#PCA\n",
    "standardizer = StandardScaler(withMean=True, withStd=True, inputCol='features', outputCol='features_2')\n",
    "model = standardizer.fit(dataset)\n",
    "dataset = model.transform(dataset)\n",
    "pca = PCA(k=2, inputCol='features_2', outputCol='pcaFeatures')\n",
    "model = pca.fit(dataset)\n",
    "result = model.transform(dataset).select('pcaFeatures')\n",
    "\n",
    "# Putting all together\n",
    "PCApredictions = model.transform(dataset)"
   ]
  },
  {
   "cell_type": "code",
   "execution_count": 67,
   "metadata": {
    "collapsed": false
   },
   "outputs": [],
   "source": [
    "PCAlist = PCApredictions.select('pcaFeatures').collect()\n",
    "PCA_array = [[float(i.pcaFeatures[0]),float(i.pcaFeatures[1])] for i in PCAlist]\n"
   ]
  },
  {
   "cell_type": "code",
   "execution_count": 68,
   "metadata": {
    "collapsed": false
   },
   "outputs": [],
   "source": [
    "import numpy as np\n",
    "PCA_array = np.array(PCA_array)\n",
    "prediction_array = np.array(prediction_array)"
   ]
  },
  {
   "cell_type": "code",
   "execution_count": 69,
   "metadata": {
    "collapsed": false
   },
   "outputs": [],
   "source": [
    "import matplotlib.pyplot as plt\n",
    "\n",
    "plt.scatter(x=PCA_array[:,0], y=PCA_array[:,1], c=prediction_array, s=100)\n",
    "plt.show()"
   ]
  },
  {
   "cell_type": "code",
   "execution_count": null,
   "metadata": {
    "collapsed": true
   },
   "outputs": [],
   "source": [
    "sc.stop()"
   ]
  }
 ],
 "metadata": {
  "kernelspec": {
   "display_name": "Python 2",
   "language": "python",
   "name": "python2"
  },
  "language_info": {
   "codemirror_mode": {
    "name": "ipython",
    "version": 2
   },
   "file_extension": ".py",
   "mimetype": "text/x-python",
   "name": "python",
   "nbconvert_exporter": "python",
   "pygments_lexer": "ipython2",
   "version": "2.7.11"
  }
 },
 "nbformat": 4,
 "nbformat_minor": 0
}
